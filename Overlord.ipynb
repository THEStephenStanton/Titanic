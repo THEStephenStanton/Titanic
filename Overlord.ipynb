{
 "cells": [
  {
   "cell_type": "markdown",
   "metadata": {
    "_cell_guid": "ea34a5fa-872d-47e0-96bd-9c92b6508dd3",
    "_uuid": "7512a852eda530c94f5c25c3c131464759cf21d7"
   },
   "source": [
    "In this notebook, I will use data from Kaggle on the RMS Titanic to try and predict which types of people would be most likely to have survived the sinking of the Titanic.\n",
    "\n",
    "For this I will follow the Machine Learning Project Checklist found in \"[Hands-On Machine Learning with Scikit-Learn and TensorFlow](http://shop.oreilly.com/product/0636920052289.do)\"\n",
    "\n",
    "<br/>\n",
    "\n",
    "**Contents:**\n",
    "1. Frame the Problem and Look at Big Picture\n",
    "2. Get the Data\n",
    "3. Explore the Data\n",
    "4. Prepare the Data\n",
    "5. Short-List Promising Models\n",
    "6. Fine-Tune the System\n",
    "7. Present Solution"
   ]
  },
  {
   "cell_type": "markdown",
   "metadata": {
    "_cell_guid": "9a63eb53-17f0-4ee2-9e5d-f8d8e265b0f1",
    "_uuid": "0032736bf9592963b9d67667b721ac14d616308c"
   },
   "source": [
    "Start off with the imports that we will need"
   ]
  },
  {
   "cell_type": "code",
   "execution_count": 2,
   "metadata": {
    "_cell_guid": "dabadd74-5e41-4bf5-b42e-1e2bcc4b8dc5",
    "_uuid": "9ee6757b8717a64830ddbb1e7040b9e68fff7436",
    "collapsed": true
   },
   "outputs": [],
   "source": [
    "import pandas as pd\n",
    "import numpy as np\n",
    "import matplotlib.pyplot as plt"
   ]
  },
  {
   "cell_type": "markdown",
   "metadata": {
    "_cell_guid": "e082919b-b079-48da-9725-cdab9adf0b5a",
    "_uuid": "704b3ae8a7ea644db622942b2b2680c82a20bd70"
   },
   "source": [
    "> # **1.  Frame the Problem and Look at Big Picture**"
   ]
  },
  {
   "cell_type": "markdown",
   "metadata": {
    "_cell_guid": "aaeb17ce-d037-48e4-9961-5870c22f249f",
    "_uuid": "838217914374bf67b79bc7604614c9c391798183"
   },
   "source": [
    "**Objective:** Create a model to predict who would and who would not have survived the titanic. \n",
    "\n",
    "Let's frame this problem:\n",
    "* This is a **supervised learning problem** due to the fact that we have been given the correct labels (survived or not)\n",
    "* This is a **classification task** given that we are just trying to predict whether someone survived or not\n",
    "* This is a **batch learning** problem since the dataset is small enough to be kept in memory and we don't have new information coming in.\n",
    "\n",
    "I will be using **classification error** as my performance measure.\n",
    "\n",
    "**Assumptions:**\n",
    "I think that there will be 3 features that could really determine whether someone would have survived or not:\n",
    "1.  **Sex**, because women were prioritized in the evacuation\n",
    "2.  **Age**, because children were also prioritized in the evacuation\n",
    "3.  **Pclass** (Ticket class), because those who were wealthier probably had more pull to try to get off the ship first over the poor people\n",
    "\n",
    "Another other minor assumptions that I had are that people higher up on the boat (the **Cabin** feature) would be more likely to survive since when the ship hit the iceburg, obviously the lower level cabins would get hit first.  I am not sure if the **Cabin** feature could help us with this, **Pclass** might help in the same exact way since most of the nicer and more expensive cabins are high up the boat.  "
   ]
  },
  {
   "cell_type": "markdown",
   "metadata": {
    "_cell_guid": "1f0bbddf-9dfc-4cb2-b115-700a57ca326f",
    "_uuid": "684d1888590172715f94dccb70dbf9aaa06f21c3"
   },
   "source": [
    "# **2.  Get the Data**"
   ]
  },
  {
   "cell_type": "markdown",
   "metadata": {
    "_cell_guid": "6ca2ed76-cdb7-41bc-853d-2cfa58dfc705",
    "_uuid": "102255dd2e60648e007a8aaf188c75df720ca301"
   },
   "source": [
    "Source: https://www.kaggle.com/c/titanic"
   ]
  },
  {
   "cell_type": "code",
   "execution_count": 3,
   "metadata": {
    "_cell_guid": "c41bbd98-536c-4217-8568-21ca8b5bd1f7",
    "_uuid": "176a7bbe40cd7f3653a8b98b821960b93fe4bab8"
   },
   "outputs": [
    {
     "data": {
      "text/html": [
       "<div>\n",
       "<style>\n",
       "    .dataframe thead tr:only-child th {\n",
       "        text-align: right;\n",
       "    }\n",
       "\n",
       "    .dataframe thead th {\n",
       "        text-align: left;\n",
       "    }\n",
       "\n",
       "    .dataframe tbody tr th {\n",
       "        vertical-align: top;\n",
       "    }\n",
       "</style>\n",
       "<table border=\"1\" class=\"dataframe\">\n",
       "  <thead>\n",
       "    <tr style=\"text-align: right;\">\n",
       "      <th></th>\n",
       "      <th>PassengerId</th>\n",
       "      <th>Survived</th>\n",
       "      <th>Pclass</th>\n",
       "      <th>Name</th>\n",
       "      <th>Sex</th>\n",
       "      <th>Age</th>\n",
       "      <th>SibSp</th>\n",
       "      <th>Parch</th>\n",
       "      <th>Ticket</th>\n",
       "      <th>Fare</th>\n",
       "      <th>Cabin</th>\n",
       "      <th>Embarked</th>\n",
       "    </tr>\n",
       "  </thead>\n",
       "  <tbody>\n",
       "    <tr>\n",
       "      <th>0</th>\n",
       "      <td>1</td>\n",
       "      <td>0</td>\n",
       "      <td>3</td>\n",
       "      <td>Braund, Mr. Owen Harris</td>\n",
       "      <td>male</td>\n",
       "      <td>22.0</td>\n",
       "      <td>1</td>\n",
       "      <td>0</td>\n",
       "      <td>A/5 21171</td>\n",
       "      <td>7.2500</td>\n",
       "      <td>NaN</td>\n",
       "      <td>S</td>\n",
       "    </tr>\n",
       "    <tr>\n",
       "      <th>1</th>\n",
       "      <td>2</td>\n",
       "      <td>1</td>\n",
       "      <td>1</td>\n",
       "      <td>Cumings, Mrs. John Bradley (Florence Briggs Th...</td>\n",
       "      <td>female</td>\n",
       "      <td>38.0</td>\n",
       "      <td>1</td>\n",
       "      <td>0</td>\n",
       "      <td>PC 17599</td>\n",
       "      <td>71.2833</td>\n",
       "      <td>C85</td>\n",
       "      <td>C</td>\n",
       "    </tr>\n",
       "    <tr>\n",
       "      <th>2</th>\n",
       "      <td>3</td>\n",
       "      <td>1</td>\n",
       "      <td>3</td>\n",
       "      <td>Heikkinen, Miss. Laina</td>\n",
       "      <td>female</td>\n",
       "      <td>26.0</td>\n",
       "      <td>0</td>\n",
       "      <td>0</td>\n",
       "      <td>STON/O2. 3101282</td>\n",
       "      <td>7.9250</td>\n",
       "      <td>NaN</td>\n",
       "      <td>S</td>\n",
       "    </tr>\n",
       "    <tr>\n",
       "      <th>3</th>\n",
       "      <td>4</td>\n",
       "      <td>1</td>\n",
       "      <td>1</td>\n",
       "      <td>Futrelle, Mrs. Jacques Heath (Lily May Peel)</td>\n",
       "      <td>female</td>\n",
       "      <td>35.0</td>\n",
       "      <td>1</td>\n",
       "      <td>0</td>\n",
       "      <td>113803</td>\n",
       "      <td>53.1000</td>\n",
       "      <td>C123</td>\n",
       "      <td>S</td>\n",
       "    </tr>\n",
       "    <tr>\n",
       "      <th>4</th>\n",
       "      <td>5</td>\n",
       "      <td>0</td>\n",
       "      <td>3</td>\n",
       "      <td>Allen, Mr. William Henry</td>\n",
       "      <td>male</td>\n",
       "      <td>35.0</td>\n",
       "      <td>0</td>\n",
       "      <td>0</td>\n",
       "      <td>373450</td>\n",
       "      <td>8.0500</td>\n",
       "      <td>NaN</td>\n",
       "      <td>S</td>\n",
       "    </tr>\n",
       "  </tbody>\n",
       "</table>\n",
       "</div>"
      ],
      "text/plain": [
       "   PassengerId  Survived  Pclass  \\\n",
       "0            1         0       3   \n",
       "1            2         1       1   \n",
       "2            3         1       3   \n",
       "3            4         1       1   \n",
       "4            5         0       3   \n",
       "\n",
       "                                                Name     Sex   Age  SibSp  \\\n",
       "0                            Braund, Mr. Owen Harris    male  22.0      1   \n",
       "1  Cumings, Mrs. John Bradley (Florence Briggs Th...  female  38.0      1   \n",
       "2                             Heikkinen, Miss. Laina  female  26.0      0   \n",
       "3       Futrelle, Mrs. Jacques Heath (Lily May Peel)  female  35.0      1   \n",
       "4                           Allen, Mr. William Henry    male  35.0      0   \n",
       "\n",
       "   Parch            Ticket     Fare Cabin Embarked  \n",
       "0      0         A/5 21171   7.2500   NaN        S  \n",
       "1      0          PC 17599  71.2833   C85        C  \n",
       "2      0  STON/O2. 3101282   7.9250   NaN        S  \n",
       "3      0            113803  53.1000  C123        S  \n",
       "4      0            373450   8.0500   NaN        S  "
      ]
     },
     "execution_count": 3,
     "metadata": {},
     "output_type": "execute_result"
    }
   ],
   "source": [
    "titanic_train = pd.read_csv(\"train.csv\")\n",
    "titanic_train.head(5)"
   ]
  },
  {
   "cell_type": "markdown",
   "metadata": {
    "_cell_guid": "8319a520-c763-410e-abc7-8db3be63e4f4",
    "_uuid": "7e390024ea59ee76d89b19f5afdcec75d543533b"
   },
   "source": [
    "And let's get our test set that we won't touch until the end"
   ]
  },
  {
   "cell_type": "code",
   "execution_count": 23,
   "metadata": {
    "_cell_guid": "1f99ab53-c965-4d50-ba99-de4b2cd5bad2",
    "_uuid": "83d8777a86eed9611695c12d3c2bec831daad36b"
   },
   "outputs": [],
   "source": [
    "titanic_test = pd.read_csv(\"test.csv\")"
   ]
  },
  {
   "cell_type": "markdown",
   "metadata": {
    "_cell_guid": "8ade1e7c-c000-4ca3-acdb-7d8dca0910ef",
    "_uuid": "d545da38ff224b6c3bc2148c60e851ef774fd0d7"
   },
   "source": [
    "# **3.  Explore the Data**"
   ]
  },
  {
   "cell_type": "markdown",
   "metadata": {
    "_cell_guid": "eda3a478-581b-4c1a-87c6-c6ea23d265be",
    "_uuid": "2ab0d50034ece1586564f07ed06d61ab061d8307"
   },
   "source": [
    "Now let's explore the data.  Let's make a copy so that we don't accidentally mess up any of our data"
   ]
  },
  {
   "cell_type": "code",
   "execution_count": 24,
   "metadata": {
    "_cell_guid": "23cc6d60-12a0-4b3e-a3df-7422e580c0d3",
    "_uuid": "2774c823abfc22ef784b7ef96c831c796c56138f",
    "collapsed": true
   },
   "outputs": [],
   "source": [
    "titanic = titanic_train.copy()"
   ]
  },
  {
   "cell_type": "markdown",
   "metadata": {
    "_cell_guid": "c397a1b3-600f-4a2a-9cc8-e7b86b9c1068",
    "_uuid": "024f4201da52970a28fab1541b845ee4050f3a15"
   },
   "source": [
    "Let's start exploring"
   ]
  },
  {
   "cell_type": "code",
   "execution_count": 25,
   "metadata": {
    "_cell_guid": "99dc78e1-15ce-4170-b061-cae22853f141",
    "_uuid": "c4bf7f558d61a4fb2b80f779609961ad5465ee20"
   },
   "outputs": [
    {
     "name": "stdout",
     "output_type": "stream",
     "text": [
      "<class 'pandas.core.frame.DataFrame'>\n",
      "RangeIndex: 891 entries, 0 to 890\n",
      "Data columns (total 12 columns):\n",
      "PassengerId    891 non-null int64\n",
      "Survived       891 non-null int64\n",
      "Pclass         891 non-null int64\n",
      "Name           891 non-null object\n",
      "Sex            891 non-null object\n",
      "Age            714 non-null float64\n",
      "SibSp          891 non-null int64\n",
      "Parch          891 non-null int64\n",
      "Ticket         891 non-null object\n",
      "Fare           891 non-null float64\n",
      "Cabin          204 non-null object\n",
      "Embarked       889 non-null object\n",
      "dtypes: float64(2), int64(5), object(5)\n",
      "memory usage: 83.6+ KB\n"
     ]
    }
   ],
   "source": [
    "titanic.info()"
   ]
  },
  {
   "cell_type": "markdown",
   "metadata": {
    "_cell_guid": "fc7c1ed8-30b9-4c8b-a9b2-9794f72ca679",
    "_uuid": "1fcf2b8500c2f33cebdd0655d40b4f04c7cf1952"
   },
   "source": [
    "Let's start by exploring each attribute one at a time."
   ]
  },
  {
   "cell_type": "markdown",
   "metadata": {
    "_cell_guid": "8ef999af-6b8c-4365-a270-00cb2bbf8dc7",
    "_uuid": "e621bc335e1b729e6dd5962d3bbfb5ba6003982a"
   },
   "source": [
    "## **PassengerId**\n",
    "<br />\n",
    "This clearly won't help us at all so we will end up removing it"
   ]
  },
  {
   "cell_type": "markdown",
   "metadata": {
    "_cell_guid": "fc24475f-d2e2-4d51-a97d-412b3cc4a619",
    "_uuid": "641d5c5a0b8e39d28d843fded7cb2dad4367ff4f"
   },
   "source": [
    "## **Survived**\n",
    "<br /> \n",
    "This is our target output which is an int being either **1** for survived or **0** for died.  Let's take a look at the distribution"
   ]
  },
  {
   "cell_type": "code",
   "execution_count": 26,
   "metadata": {
    "_cell_guid": "97004857-17af-4a64-a19e-0cba672e3295",
    "_uuid": "8ac01cba1e27a3c83e4c0c09322d1a27a991c915"
   },
   "outputs": [
    {
     "data": {
      "text/plain": [
       "0    0.616162\n",
       "1    0.383838\n",
       "Name: Survived, dtype: float64"
      ]
     },
     "execution_count": 26,
     "metadata": {},
     "output_type": "execute_result"
    }
   ],
   "source": [
    "titanic.Survived.value_counts(normalize=True)"
   ]
  },
  {
   "cell_type": "markdown",
   "metadata": {
    "_cell_guid": "111a112f-35d6-419d-ad9b-d756ef3e2064",
    "_uuid": "38d4392695ed503c70e97e9375ca04e3d1b37b45"
   },
   "source": [
    "As expected, the majority of people did not survive.  Only about 38% did"
   ]
  },
  {
   "cell_type": "markdown",
   "metadata": {
    "_cell_guid": "a785a32a-3e91-42ba-97f7-95602163afca",
    "_uuid": "0b25384dbebb04c5f4e740c3364bee2354479dcb"
   },
   "source": [
    "## **Pclass**"
   ]
  },
  {
   "cell_type": "markdown",
   "metadata": {
    "_cell_guid": "bbb429c0-21a0-48b6-9a95-8a5482b2154b",
    "_uuid": "82059505417976f365790fbe5547a38594952f68"
   },
   "source": [
    "This is our ticket class feature.  It is an int value with one of 3 possible values:\n",
    "<br />\n",
    "* 1- 1st class\n",
    "* 2- 2nd class\n",
    "* 3- 3rd class\n",
    "<br />\n",
    "Yeah, pretty self explanitory, now let's look at the distribution"
   ]
  },
  {
   "cell_type": "code",
   "execution_count": 27,
   "metadata": {
    "_cell_guid": "976ffcac-4a69-42f5-b57e-d1f56979c3c6",
    "_uuid": "20dbb7414e06c814ed9c25a4ec97b0cad582000b"
   },
   "outputs": [
    {
     "data": {
      "text/plain": [
       "3    0.551066\n",
       "1    0.242424\n",
       "2    0.206510\n",
       "Name: Pclass, dtype: float64"
      ]
     },
     "execution_count": 27,
     "metadata": {},
     "output_type": "execute_result"
    }
   ],
   "source": [
    "titanic.Pclass.value_counts(normalize=True)"
   ]
  },
  {
   "cell_type": "markdown",
   "metadata": {
    "_cell_guid": "47550b81-542b-4d96-ac55-adbfeaf320bb",
    "_uuid": "0c6ebe6a20b93a09a4bbb3e1f4cb31701ffe5637"
   },
   "source": [
    "So the majority of the people on the boat were actually in 3rd class.  This could be a major determining factor in who survived and who died.  Let's look at the distribution of those who survived in each class."
   ]
  },
  {
   "cell_type": "code",
   "execution_count": 28,
   "metadata": {
    "_cell_guid": "8986805a-415f-4f86-950e-dcbeed366819",
    "_uuid": "63d3ce4c6560fffa8ce12fdeceb98a40dd04d5bd"
   },
   "outputs": [
    {
     "data": {
      "text/plain": [
       "1    0.629630\n",
       "2    0.472826\n",
       "3    0.242363\n",
       "Name: Pclass, dtype: float64"
      ]
     },
     "execution_count": 28,
     "metadata": {},
     "output_type": "execute_result"
    }
   ],
   "source": [
    "titanic[titanic.Survived == 1].Pclass.value_counts() / titanic.Pclass.value_counts()"
   ]
  },
  {
   "cell_type": "markdown",
   "metadata": {
    "_cell_guid": "f7980c96-619f-4cce-ab10-d2294f826f62",
    "_uuid": "b10cfc3f1d4f36609886b59934f19a91f8b6537c"
   },
   "source": [
    "As expected, a lot of the people in 1st class survived relative to people in other classes"
   ]
  },
  {
   "cell_type": "markdown",
   "metadata": {
    "_cell_guid": "94131890-0e02-444e-af3a-758527ad9b22",
    "_uuid": "751e21de8b98f8aa48ac3c56d4d8b0ae5a71d82b"
   },
   "source": [
    "## **Name**"
   ]
  },
  {
   "cell_type": "markdown",
   "metadata": {
    "_cell_guid": "4ca0951e-801f-4d6e-873d-a8f07b19bc67",
    "_uuid": "02261f4f55a125115fcb167aa43c78cfe673ea46"
   },
   "source": [
    "The name's of the passengers might not tell us too much, but let's look at a sample and see if there is anything that might stand out"
   ]
  },
  {
   "cell_type": "code",
   "execution_count": 29,
   "metadata": {
    "_cell_guid": "1743ea86-1a51-4d5d-b8a9-3c96da0ace94",
    "_uuid": "16dcfd4d8d814bbfd97a8009f2b4d2e955fc319a"
   },
   "outputs": [
    {
     "data": {
      "text/plain": [
       "862    Swift, Mrs. Frederick Joel (Margaret Welles Ba...\n",
       "223                                 Nenkoff, Mr. Christo\n",
       "84                                   Ilett, Miss. Bertha\n",
       "680                                  Peters, Miss. Katie\n",
       "535                               Hart, Miss. Eva Miriam\n",
       "Name: Name, dtype: object"
      ]
     },
     "execution_count": 29,
     "metadata": {},
     "output_type": "execute_result"
    }
   ],
   "source": [
    "titanic.Name.sample(5, random_state=1)"
   ]
  },
  {
   "cell_type": "markdown",
   "metadata": {
    "_cell_guid": "e62dba29-fb49-4edb-8425-ba5f5d1f71d7",
    "_uuid": "2f8d265518dfdb4e8224c04dd360997de8450bec"
   },
   "source": [
    "We do have name prefixes in here, this might be able to help us out with some things.  Let's take a deeper look into the distributions of these prefixes"
   ]
  },
  {
   "cell_type": "code",
   "execution_count": 30,
   "metadata": {
    "_cell_guid": "187cac76-5f94-4c43-8be0-875a1c6d7740",
    "_uuid": "4a51da32c70461f7a700bf61c8a53193f6a00088"
   },
   "outputs": [
    {
     "name": "stderr",
     "output_type": "stream",
     "text": [
      "C:\\Users\\Stephen\\Anaconda3\\lib\\site-packages\\ipykernel_launcher.py:1: FutureWarning: currently extract(expand=None) means expand=False (return Index/Series/DataFrame) but in a future version of pandas this will be changed to expand=True (return DataFrame)\n",
      "  \"\"\"Entry point for launching an IPython kernel.\n"
     ]
    },
    {
     "data": {
      "text/plain": [
       "Mr              517\n",
       "Miss            182\n",
       "Mrs             125\n",
       "Master           40\n",
       "Dr                7\n",
       "Rev               6\n",
       "Mlle              2\n",
       "Major             2\n",
       "Col               2\n",
       "Mme               1\n",
       "Ms                1\n",
       "Don               1\n",
       "the Countess      1\n",
       "Sir               1\n",
       "Capt              1\n",
       "Lady              1\n",
       "Jonkheer          1\n",
       "Name: Name, dtype: int64"
      ]
     },
     "execution_count": 30,
     "metadata": {},
     "output_type": "execute_result"
    }
   ],
   "source": [
    "name_prefixs = titanic.Name.str.extract(',\\s?(.*?)\\.')\n",
    "name_prefixs.value_counts()"
   ]
  },
  {
   "cell_type": "code",
   "execution_count": 31,
   "metadata": {
    "_cell_guid": "e186852c-26a1-422a-bfce-53fdbb80df37",
    "_uuid": "6f3c5027342b0260dadd9bec7565c17cd1f2faa2"
   },
   "outputs": [
    {
     "name": "stdout",
     "output_type": "stream",
     "text": [
      "Survived:\n",
      "Mr 0.15667311411992263\n",
      "Mrs 0.792\n",
      "Miss 0.6978021978021978\n",
      "Master 0.575\n",
      "Don 0.0\n",
      "Rev 0.0\n",
      "Dr 0.42857142857142855\n",
      "Mme 1.0\n",
      "Ms 1.0\n",
      "Major 0.5\n",
      "Lady 1.0\n",
      "Sir 1.0\n",
      "Mlle 1.0\n",
      "Col 0.5\n",
      "Capt 0.0\n",
      "the Countess 1.0\n",
      "Jonkheer 0.0\n"
     ]
    }
   ],
   "source": [
    "print('Survived:')\n",
    "for prefix in name_prefixs.unique():\n",
    "    temp = titanic[titanic.Name.str.contains('%s\\.' % (prefix))]\n",
    "    print(prefix, len(temp[temp.Survived == 1]) / len(temp))"
   ]
  },
  {
   "cell_type": "markdown",
   "metadata": {
    "_cell_guid": "84220001-31f7-4ff8-9019-e9677063d91a",
    "_uuid": "831fa112bbe6b87d369ccac16d2bdcc80a8eeeb2"
   },
   "source": [
    "As expected, the majority of women survived.  It does seem that there is a higher probablity of your survival as a woman if you are married (Mrs) vs not married (Miss).  Also, we can see that the only about 16% of males with prefix Mr survived.  I would assume that most Masters and Doctors at this time period were also males and 58% and 43% of them survived respectively.  This could actually really help us when classifying.  But first we need to look at **Sex** to check if these assumptions are right."
   ]
  },
  {
   "cell_type": "markdown",
   "metadata": {
    "_cell_guid": "95159e2d-d7a0-4180-ab05-3c74afee78d5",
    "_uuid": "fe84ce70bf915d3e2be9dd7271aebd0480590909"
   },
   "source": [
    "## **Sex**"
   ]
  },
  {
   "cell_type": "markdown",
   "metadata": {
    "_cell_guid": "a889d21d-c269-4a46-a0dd-c56b6dde2aa8",
    "_uuid": "bcc0380389d49ddb3a861a3113387e6bcd6dd8c8"
   },
   "source": [
    "First let's just look at the distribution of males and females on the ship"
   ]
  },
  {
   "cell_type": "code",
   "execution_count": 32,
   "metadata": {
    "_cell_guid": "a60ca850-a62d-4259-b414-5829e70c7064",
    "_uuid": "985c74172f47637336cb55616da52290b0c84e17"
   },
   "outputs": [
    {
     "data": {
      "text/plain": [
       "male      0.647587\n",
       "female    0.352413\n",
       "Name: Sex, dtype: float64"
      ]
     },
     "execution_count": 32,
     "metadata": {},
     "output_type": "execute_result"
    }
   ],
   "source": [
    "titanic.Sex.value_counts(normalize=True)"
   ]
  },
  {
   "cell_type": "markdown",
   "metadata": {
    "_cell_guid": "d3c45956-ab68-458a-bca0-622e4ebef575",
    "_uuid": "1f3fb2012e81ddeb4cb88a905ec7ca260c1db4a0"
   },
   "source": [
    "So about 2/3 of the ship was male.  Let's look at how many in each survived"
   ]
  },
  {
   "cell_type": "code",
   "execution_count": 33,
   "metadata": {
    "_cell_guid": "86ac4bad-5a6f-4641-9cf0-397e8b276a12",
    "_uuid": "6cf9e5c6881d75235e14dfe95f29911d102b44a1"
   },
   "outputs": [
    {
     "data": {
      "text/plain": [
       "female    0.742038\n",
       "male      0.188908\n",
       "Name: Sex, dtype: float64"
      ]
     },
     "execution_count": 33,
     "metadata": {},
     "output_type": "execute_result"
    }
   ],
   "source": [
    "titanic[titanic.Survived == 1].Sex.value_counts() / titanic.Sex.value_counts()"
   ]
  },
  {
   "cell_type": "markdown",
   "metadata": {
    "_cell_guid": "896dee8c-237b-452e-ad05-dfe6b6606559",
    "_uuid": "af064c48a117c2ca9a689a4e611721b78e1c988f"
   },
   "source": [
    "As expected, about 74% of females survived whereas only about 19% of the males survived.  Let's take a look at the prefix of the **Name** along with **Sex**"
   ]
  },
  {
   "cell_type": "markdown",
   "metadata": {
    "_cell_guid": "197e25d1-4e57-4db9-9606-9e471c9a0a33",
    "_uuid": "ba587f98a85619edb6afa94830f61424a618435b"
   },
   "source": [
    "## **Name Prefix and Sex**"
   ]
  },
  {
   "cell_type": "markdown",
   "metadata": {
    "_cell_guid": "5618f3e7-eb1f-4069-866b-038550c821fd",
    "_uuid": "8c3ae6398b20f5b0825b2c5fed4e6f5db5bca7d6"
   },
   "source": [
    "As mentioned in the **Name** analysis, I assumed that the prefix Master and Dr were generally more likely to be males, let's take a look at this"
   ]
  },
  {
   "cell_type": "code",
   "execution_count": 34,
   "metadata": {
    "_cell_guid": "ff1dd33f-a941-4098-b7b1-038c29ffda33",
    "_uuid": "fa79531a6f48dbfdc2d91724b0cf91061cbb57b9"
   },
   "outputs": [
    {
     "name": "stdout",
     "output_type": "stream",
     "text": [
      "Master:\n",
      "male    40\n",
      "Name: Sex, dtype: int64\n",
      "\n",
      "\n",
      "Dr:\n",
      "male      6\n",
      "female    1\n",
      "Name: Sex, dtype: int64\n"
     ]
    }
   ],
   "source": [
    "print('Master:')\n",
    "print(titanic[titanic.Name.str.contains('Master\\.')].Sex.value_counts())\n",
    "print('\\n')\n",
    "print('Dr:')\n",
    "print(titanic[titanic.Name.str.contains('Dr\\.')].Sex.value_counts())"
   ]
  },
  {
   "cell_type": "markdown",
   "metadata": {
    "_cell_guid": "3c756600-2e79-4799-8a23-c803ff963656",
    "_uuid": "a6ec632c71e9860f52908302131b9930c69c8988"
   },
   "source": [
    "As expected, Master was all males and as we saw in the **Name** analysis, about 56% of them survived whereas only about 19% of males survived.  This could really help us when making our model.  As for doctor, lets just take a look at these doctors"
   ]
  },
  {
   "cell_type": "code",
   "execution_count": 35,
   "metadata": {
    "_cell_guid": "cfaabfac-ad4d-4019-b1dd-1f74ccb4930f",
    "_uuid": "a2d8bdbcff644d43dc69916989459385f0e229b4"
   },
   "outputs": [
    {
     "data": {
      "text/html": [
       "<div>\n",
       "<style>\n",
       "    .dataframe thead tr:only-child th {\n",
       "        text-align: right;\n",
       "    }\n",
       "\n",
       "    .dataframe thead th {\n",
       "        text-align: left;\n",
       "    }\n",
       "\n",
       "    .dataframe tbody tr th {\n",
       "        vertical-align: top;\n",
       "    }\n",
       "</style>\n",
       "<table border=\"1\" class=\"dataframe\">\n",
       "  <thead>\n",
       "    <tr style=\"text-align: right;\">\n",
       "      <th></th>\n",
       "      <th>PassengerId</th>\n",
       "      <th>Survived</th>\n",
       "      <th>Pclass</th>\n",
       "      <th>Name</th>\n",
       "      <th>Sex</th>\n",
       "      <th>Age</th>\n",
       "      <th>SibSp</th>\n",
       "      <th>Parch</th>\n",
       "      <th>Ticket</th>\n",
       "      <th>Fare</th>\n",
       "      <th>Cabin</th>\n",
       "      <th>Embarked</th>\n",
       "    </tr>\n",
       "  </thead>\n",
       "  <tbody>\n",
       "    <tr>\n",
       "      <th>245</th>\n",
       "      <td>246</td>\n",
       "      <td>0</td>\n",
       "      <td>1</td>\n",
       "      <td>Minahan, Dr. William Edward</td>\n",
       "      <td>male</td>\n",
       "      <td>44.0</td>\n",
       "      <td>2</td>\n",
       "      <td>0</td>\n",
       "      <td>19928</td>\n",
       "      <td>90.0000</td>\n",
       "      <td>C78</td>\n",
       "      <td>Q</td>\n",
       "    </tr>\n",
       "    <tr>\n",
       "      <th>317</th>\n",
       "      <td>318</td>\n",
       "      <td>0</td>\n",
       "      <td>2</td>\n",
       "      <td>Moraweck, Dr. Ernest</td>\n",
       "      <td>male</td>\n",
       "      <td>54.0</td>\n",
       "      <td>0</td>\n",
       "      <td>0</td>\n",
       "      <td>29011</td>\n",
       "      <td>14.0000</td>\n",
       "      <td>NaN</td>\n",
       "      <td>S</td>\n",
       "    </tr>\n",
       "    <tr>\n",
       "      <th>398</th>\n",
       "      <td>399</td>\n",
       "      <td>0</td>\n",
       "      <td>2</td>\n",
       "      <td>Pain, Dr. Alfred</td>\n",
       "      <td>male</td>\n",
       "      <td>23.0</td>\n",
       "      <td>0</td>\n",
       "      <td>0</td>\n",
       "      <td>244278</td>\n",
       "      <td>10.5000</td>\n",
       "      <td>NaN</td>\n",
       "      <td>S</td>\n",
       "    </tr>\n",
       "    <tr>\n",
       "      <th>632</th>\n",
       "      <td>633</td>\n",
       "      <td>1</td>\n",
       "      <td>1</td>\n",
       "      <td>Stahelin-Maeglin, Dr. Max</td>\n",
       "      <td>male</td>\n",
       "      <td>32.0</td>\n",
       "      <td>0</td>\n",
       "      <td>0</td>\n",
       "      <td>13214</td>\n",
       "      <td>30.5000</td>\n",
       "      <td>B50</td>\n",
       "      <td>C</td>\n",
       "    </tr>\n",
       "    <tr>\n",
       "      <th>660</th>\n",
       "      <td>661</td>\n",
       "      <td>1</td>\n",
       "      <td>1</td>\n",
       "      <td>Frauenthal, Dr. Henry William</td>\n",
       "      <td>male</td>\n",
       "      <td>50.0</td>\n",
       "      <td>2</td>\n",
       "      <td>0</td>\n",
       "      <td>PC 17611</td>\n",
       "      <td>133.6500</td>\n",
       "      <td>NaN</td>\n",
       "      <td>S</td>\n",
       "    </tr>\n",
       "    <tr>\n",
       "      <th>766</th>\n",
       "      <td>767</td>\n",
       "      <td>0</td>\n",
       "      <td>1</td>\n",
       "      <td>Brewe, Dr. Arthur Jackson</td>\n",
       "      <td>male</td>\n",
       "      <td>NaN</td>\n",
       "      <td>0</td>\n",
       "      <td>0</td>\n",
       "      <td>112379</td>\n",
       "      <td>39.6000</td>\n",
       "      <td>NaN</td>\n",
       "      <td>C</td>\n",
       "    </tr>\n",
       "    <tr>\n",
       "      <th>796</th>\n",
       "      <td>797</td>\n",
       "      <td>1</td>\n",
       "      <td>1</td>\n",
       "      <td>Leader, Dr. Alice (Farnham)</td>\n",
       "      <td>female</td>\n",
       "      <td>49.0</td>\n",
       "      <td>0</td>\n",
       "      <td>0</td>\n",
       "      <td>17465</td>\n",
       "      <td>25.9292</td>\n",
       "      <td>D17</td>\n",
       "      <td>S</td>\n",
       "    </tr>\n",
       "  </tbody>\n",
       "</table>\n",
       "</div>"
      ],
      "text/plain": [
       "     PassengerId  Survived  Pclass                           Name     Sex  \\\n",
       "245          246         0       1    Minahan, Dr. William Edward    male   \n",
       "317          318         0       2           Moraweck, Dr. Ernest    male   \n",
       "398          399         0       2               Pain, Dr. Alfred    male   \n",
       "632          633         1       1      Stahelin-Maeglin, Dr. Max    male   \n",
       "660          661         1       1  Frauenthal, Dr. Henry William    male   \n",
       "766          767         0       1      Brewe, Dr. Arthur Jackson    male   \n",
       "796          797         1       1    Leader, Dr. Alice (Farnham)  female   \n",
       "\n",
       "      Age  SibSp  Parch    Ticket      Fare Cabin Embarked  \n",
       "245  44.0      2      0     19928   90.0000   C78        Q  \n",
       "317  54.0      0      0     29011   14.0000   NaN        S  \n",
       "398  23.0      0      0    244278   10.5000   NaN        S  \n",
       "632  32.0      0      0     13214   30.5000   B50        C  \n",
       "660  50.0      2      0  PC 17611  133.6500   NaN        S  \n",
       "766   NaN      0      0    112379   39.6000   NaN        C  \n",
       "796  49.0      0      0     17465   25.9292   D17        S  "
      ]
     },
     "execution_count": 35,
     "metadata": {},
     "output_type": "execute_result"
    }
   ],
   "source": [
    "titanic[titanic.Name.str.contains('Dr\\.')]"
   ]
  },
  {
   "cell_type": "markdown",
   "metadata": {
    "_cell_guid": "a1d7bd55-32e5-44dc-b014-864af878caed",
    "_uuid": "bfb712d6252e69dd01f47ad1b4fa0608826d12f3"
   },
   "source": [
    "So the one woman doctor that we see survived, we already saw that women were more likely to survive, and if we look at the other 5 doctors, about 40% of them survived.  Now this isn't a lot of data to make a conclusion based on, but it may or may not help later on.  When making our model we will probably make a model that takes into account doctors and one that doesn't to see if it helps our model at all or just overfits to this field.  \n",
    "<br />\n",
    "Let's take a look at Mrs vs Miss and see if there is anything that stands out that could highlight the reason for Mrs having a higher survival rate"
   ]
  },
  {
   "cell_type": "code",
   "execution_count": 36,
   "metadata": {
    "_cell_guid": "928e967d-6078-4881-ab6f-8937f48e7192",
    "_uuid": "83bfbbb417c48041bf8f433ca768662a5dfe1968"
   },
   "outputs": [
    {
     "name": "stdout",
     "output_type": "stream",
     "text": [
      "Mrs:\n",
      "1    99\n",
      "0    26\n",
      "Name: Survived, dtype: int64\n",
      "Total: 125\n",
      "\n",
      "\n",
      "Miss:\n",
      "1    127\n",
      "0     55\n",
      "Name: Survived, dtype: int64\n",
      "Total: 182\n"
     ]
    }
   ],
   "source": [
    "print('Mrs:')\n",
    "print(titanic[titanic.Name.str.contains('Mrs\\.')].Survived.value_counts())\n",
    "print('Total:', len(titanic[titanic.Name.str.contains('Mrs\\.')]))\n",
    "print('\\n')\n",
    "print('Miss:')\n",
    "print(titanic[titanic.Name.str.contains('Miss\\.')].Survived.value_counts())\n",
    "print('Total:', len(titanic[titanic.Name.str.contains('Miss\\.')]))"
   ]
  },
  {
   "cell_type": "markdown",
   "metadata": {
    "_cell_guid": "a1d430e9-fe0f-42db-afd1-94345ff9b0be",
    "_uuid": "0a35f3886729dab71cfe85efef4eaa383b418b8e"
   },
   "source": [
    "So looking at this, I think it might just be a coincidence.  Maybe the married women survive more is because they have children?  As we know from the movie they said women and children first, so maybe that could be the reason for the slightly higher survival rate.  We will look into that when we get to the **Parch** feature"
   ]
  },
  {
   "cell_type": "markdown",
   "metadata": {
    "_cell_guid": "3b308c1e-6bb6-4811-afe9-4aec17c1e8e6",
    "_uuid": "b8860ff056420213a4dabe19779d2e4a3cd0d72c"
   },
   "source": [
    "## **Age**"
   ]
  },
  {
   "cell_type": "markdown",
   "metadata": {
    "_cell_guid": "008b0b2c-3d0f-4cba-ac3f-04c689b596cc",
    "_uuid": "3d3f9be9af2a3e6a7282e55089a4d04d82e36c7c"
   },
   "source": [
    "Age is one of our features with quite a few missing rows missing values.  177 to be exact.  Since children were first to evacuate, this could help us out a lot.  Also, I would assume that the elderly would have gotten off first.  But I digress, let's look at some info on our ages"
   ]
  },
  {
   "cell_type": "code",
   "execution_count": 37,
   "metadata": {
    "_cell_guid": "6b3e8cb3-5a8d-4bf6-86a6-cffa43409be1",
    "_uuid": "4cdefa7a43081ae00688a8778cb144782db8ae91"
   },
   "outputs": [
    {
     "data": {
      "text/plain": [
       "count    714.000000\n",
       "mean      29.699118\n",
       "std       14.526497\n",
       "min        0.420000\n",
       "25%       20.125000\n",
       "50%       28.000000\n",
       "75%       38.000000\n",
       "max       80.000000\n",
       "Name: Age, dtype: float64"
      ]
     },
     "execution_count": 37,
     "metadata": {},
     "output_type": "execute_result"
    }
   ],
   "source": [
    "titanic.Age.describe()"
   ]
  },
  {
   "cell_type": "markdown",
   "metadata": {
    "_cell_guid": "287e8cf6-b5c3-4092-93f9-ed63b2523f5e",
    "_uuid": "adc69a8f2a36d2b0aa464765d9202c76a131644d"
   },
   "source": [
    "Let's try to plot out the ages and see if anything stands out"
   ]
  },
  {
   "cell_type": "code",
   "execution_count": 38,
   "metadata": {
    "_cell_guid": "4b832c93-b31d-42f7-9149-ef17b912f82a",
    "_uuid": "300c8c14cc709be743d341e5b6a034ea9e467736"
   },
   "outputs": [
    {
     "data": {
      "text/plain": [
       "<matplotlib.axes._subplots.AxesSubplot at 0x26e483b3390>"
      ]
     },
     "execution_count": 38,
     "metadata": {},
     "output_type": "execute_result"
    }
   ],
   "source": [
    "counts = titanic.groupby(['Age', 'Survived']).Age.count().unstack()\n",
    "counts.plot(kind='bar', stacked=True, figsize=(15,10))"
   ]
  },
  {
   "cell_type": "markdown",
   "metadata": {
    "_cell_guid": "402e0937-5617-42cf-8ba3-b9b4bc2e8096",
    "_uuid": "cd87456f4b0addac80c19a64ba2d6d7550e5ba47"
   },
   "source": [
    "Nothing stands out that much, let's group these ages in groups of ten and see if anything changes"
   ]
  },
  {
   "cell_type": "code",
   "execution_count": 39,
   "metadata": {
    "_cell_guid": "21badf81-0ca0-4c81-8b58-45544f3abd2f",
    "_uuid": "e82bbede6f272c643219fdc4eb6b7ca183e22996"
   },
   "outputs": [
    {
     "data": {
      "text/html": [
       "<div>\n",
       "<style>\n",
       "    .dataframe thead tr:only-child th {\n",
       "        text-align: right;\n",
       "    }\n",
       "\n",
       "    .dataframe thead th {\n",
       "        text-align: left;\n",
       "    }\n",
       "\n",
       "    .dataframe tbody tr th {\n",
       "        vertical-align: top;\n",
       "    }\n",
       "</style>\n",
       "<table border=\"1\" class=\"dataframe\">\n",
       "  <thead>\n",
       "    <tr style=\"text-align: right;\">\n",
       "      <th></th>\n",
       "      <th>PassengerId</th>\n",
       "      <th>Survived</th>\n",
       "      <th>Pclass</th>\n",
       "      <th>Name</th>\n",
       "      <th>Sex</th>\n",
       "      <th>Age</th>\n",
       "      <th>SibSp</th>\n",
       "      <th>Parch</th>\n",
       "      <th>Ticket</th>\n",
       "      <th>Fare</th>\n",
       "      <th>Cabin</th>\n",
       "      <th>Embarked</th>\n",
       "      <th>AgeBin</th>\n",
       "    </tr>\n",
       "  </thead>\n",
       "  <tbody>\n",
       "    <tr>\n",
       "      <th>0</th>\n",
       "      <td>1</td>\n",
       "      <td>0</td>\n",
       "      <td>3</td>\n",
       "      <td>Braund, Mr. Owen Harris</td>\n",
       "      <td>male</td>\n",
       "      <td>22.0</td>\n",
       "      <td>1</td>\n",
       "      <td>0</td>\n",
       "      <td>A/5 21171</td>\n",
       "      <td>7.2500</td>\n",
       "      <td>NaN</td>\n",
       "      <td>S</td>\n",
       "      <td>20s</td>\n",
       "    </tr>\n",
       "    <tr>\n",
       "      <th>1</th>\n",
       "      <td>2</td>\n",
       "      <td>1</td>\n",
       "      <td>1</td>\n",
       "      <td>Cumings, Mrs. John Bradley (Florence Briggs Th...</td>\n",
       "      <td>female</td>\n",
       "      <td>38.0</td>\n",
       "      <td>1</td>\n",
       "      <td>0</td>\n",
       "      <td>PC 17599</td>\n",
       "      <td>71.2833</td>\n",
       "      <td>C85</td>\n",
       "      <td>C</td>\n",
       "      <td>30s</td>\n",
       "    </tr>\n",
       "    <tr>\n",
       "      <th>2</th>\n",
       "      <td>3</td>\n",
       "      <td>1</td>\n",
       "      <td>3</td>\n",
       "      <td>Heikkinen, Miss. Laina</td>\n",
       "      <td>female</td>\n",
       "      <td>26.0</td>\n",
       "      <td>0</td>\n",
       "      <td>0</td>\n",
       "      <td>STON/O2. 3101282</td>\n",
       "      <td>7.9250</td>\n",
       "      <td>NaN</td>\n",
       "      <td>S</td>\n",
       "      <td>20s</td>\n",
       "    </tr>\n",
       "    <tr>\n",
       "      <th>3</th>\n",
       "      <td>4</td>\n",
       "      <td>1</td>\n",
       "      <td>1</td>\n",
       "      <td>Futrelle, Mrs. Jacques Heath (Lily May Peel)</td>\n",
       "      <td>female</td>\n",
       "      <td>35.0</td>\n",
       "      <td>1</td>\n",
       "      <td>0</td>\n",
       "      <td>113803</td>\n",
       "      <td>53.1000</td>\n",
       "      <td>C123</td>\n",
       "      <td>S</td>\n",
       "      <td>30s</td>\n",
       "    </tr>\n",
       "    <tr>\n",
       "      <th>4</th>\n",
       "      <td>5</td>\n",
       "      <td>0</td>\n",
       "      <td>3</td>\n",
       "      <td>Allen, Mr. William Henry</td>\n",
       "      <td>male</td>\n",
       "      <td>35.0</td>\n",
       "      <td>0</td>\n",
       "      <td>0</td>\n",
       "      <td>373450</td>\n",
       "      <td>8.0500</td>\n",
       "      <td>NaN</td>\n",
       "      <td>S</td>\n",
       "      <td>30s</td>\n",
       "    </tr>\n",
       "  </tbody>\n",
       "</table>\n",
       "</div>"
      ],
      "text/plain": [
       "   PassengerId  Survived  Pclass  \\\n",
       "0            1         0       3   \n",
       "1            2         1       1   \n",
       "2            3         1       3   \n",
       "3            4         1       1   \n",
       "4            5         0       3   \n",
       "\n",
       "                                                Name     Sex   Age  SibSp  \\\n",
       "0                            Braund, Mr. Owen Harris    male  22.0      1   \n",
       "1  Cumings, Mrs. John Bradley (Florence Briggs Th...  female  38.0      1   \n",
       "2                             Heikkinen, Miss. Laina  female  26.0      0   \n",
       "3       Futrelle, Mrs. Jacques Heath (Lily May Peel)  female  35.0      1   \n",
       "4                           Allen, Mr. William Henry    male  35.0      0   \n",
       "\n",
       "   Parch            Ticket     Fare Cabin Embarked AgeBin  \n",
       "0      0         A/5 21171   7.2500   NaN        S    20s  \n",
       "1      0          PC 17599  71.2833   C85        C    30s  \n",
       "2      0  STON/O2. 3101282   7.9250   NaN        S    20s  \n",
       "3      0            113803  53.1000  C123        S    30s  \n",
       "4      0            373450   8.0500   NaN        S    30s  "
      ]
     },
     "execution_count": 39,
     "metadata": {},
     "output_type": "execute_result"
    }
   ],
   "source": [
    "bins = np.arange(0, 100, 10)\n",
    "labels = list(map(str, bins[:-1]))\n",
    "labels = [b + 's' for b in labels]\n",
    "titanic_age_bins = titanic.copy()\n",
    "\n",
    "titanic_age_bins['AgeBin'] = pd.cut(titanic_age_bins.Age, bins=bins, labels=labels)\n",
    "titanic_age_bins.head()"
   ]
  },
  {
   "cell_type": "code",
   "execution_count": 40,
   "metadata": {
    "_cell_guid": "b5f7115c-c766-40b3-9703-96b542c5f4a7",
    "_uuid": "55388546b4f7d5ec98f7332a8616ff6428d1239c"
   },
   "outputs": [
    {
     "data": {
      "text/plain": [
       "<matplotlib.axes._subplots.AxesSubplot at 0x26e489be710>"
      ]
     },
     "execution_count": 40,
     "metadata": {},
     "output_type": "execute_result"
    }
   ],
   "source": [
    "counts = titanic_age_bins.groupby(['AgeBin', 'Survived']).AgeBin.count().unstack()\n",
    "counts.plot(kind='bar', stacked=True, figsize=(15,10))"
   ]
  },
  {
   "cell_type": "markdown",
   "metadata": {
    "_cell_guid": "7905d192-5b81-4ac9-91f1-305587cb8bac",
    "_uuid": "b3e922ccf7d89d2a7d1b9d1961dbd0e881b0b127"
   },
   "source": [
    "This gets a little better, we can see that younger people are more likely to survive till we get to around the mean age, then after that, you start to see survival rate decrease.  Let's take a look at one more thing, let's look at these age bin survivals in respect to the classes"
   ]
  },
  {
   "cell_type": "code",
   "execution_count": 41,
   "metadata": {
    "_cell_guid": "8c271e99-67e9-4c7a-9731-893b8f2dd38f",
    "_uuid": "314548ee276ab63e0d003155e9da9d16d4bac8c0"
   },
   "outputs": [
    {
     "name": "stdout",
     "output_type": "stream",
     "text": [
      "0s survival:\n",
      "3    19\n",
      "2    17\n",
      "1     2\n",
      "Name: Pclass, dtype: int64\n",
      "Survived / Total in Bin: 0.59375\n",
      "\n",
      "\n",
      "10s survival:\n",
      "3    20\n",
      "1    15\n",
      "2     9\n",
      "Name: Pclass, dtype: int64\n",
      "Survived / Total in Bin: 0.3826086956521739\n",
      "\n",
      "\n",
      "20s survival:\n",
      "3    30\n",
      "1    29\n",
      "2    25\n",
      "Name: Pclass, dtype: int64\n",
      "Survived / Total in Bin: 0.3652173913043478\n",
      "\n",
      "\n",
      "30s survival:\n",
      "1    37\n",
      "2    19\n",
      "3    13\n",
      "Name: Pclass, dtype: int64\n",
      "Survived / Total in Bin: 0.44516129032258067\n",
      "\n",
      "\n",
      "40s survival:\n",
      "1    21\n",
      "2    10\n",
      "3     2\n",
      "Name: Pclass, dtype: int64\n",
      "Survived / Total in Bin: 0.38372093023255816\n",
      "\n",
      "\n",
      "50s survival:\n",
      "1    15\n",
      "2     2\n",
      "Name: Pclass, dtype: int64\n",
      "Survived / Total in Bin: 0.40476190476190477\n",
      "\n",
      "\n",
      "60s survival:\n",
      "1    2\n",
      "3    1\n",
      "2    1\n",
      "Name: Pclass, dtype: int64\n",
      "Survived / Total in Bin: 0.23529411764705882\n",
      "\n",
      "\n",
      "70s survival:\n",
      "1    1\n",
      "Name: Pclass, dtype: int64\n",
      "Survived / Total in Bin: 0.2\n",
      "\n",
      "\n"
     ]
    }
   ],
   "source": [
    "for age_bin in [str(b) + 's' for b in np.arange(0, 80, 10)]:\n",
    "    print(age_bin, 'survival:')\n",
    "    temp_bin = titanic_age_bins[titanic_age_bins.AgeBin == age_bin]\n",
    "    print(temp_bin[temp_bin.Survived == 1].Pclass.value_counts())\n",
    "    print('Survived / Total in Bin:', len(temp_bin[temp_bin.Survived == 1]) / len(temp_bin))\n",
    "    print('\\n')"
   ]
  },
  {
   "cell_type": "markdown",
   "metadata": {
    "_cell_guid": "418f0f67-82b9-48aa-92f0-f4983cacae12",
    "_uuid": "77be9253b3b8cccc46d500248a257956f40fa215"
   },
   "source": [
    "So since I'm a newb with pandas and matplotlib manipulation right now, I can't really show this very well\n",
    "<br />\n",
    "*TODO  get good with matplotlib and pandas then come back and make a bangin plot*\n",
    "<br />\n",
    "But it does kind of seem that young children were more likely to survive; this combined with the **Pclass**, really seems like it could help our model out.  Or maybe it coulnd't.  Who knows, we will will just make a seperate model later."
   ]
  },
  {
   "cell_type": "markdown",
   "metadata": {
    "_cell_guid": "1a2f8d52-703a-40f1-ab12-111868fa064e",
    "_uuid": "4743ec3360aaae60995a04984daf6066e766be2c"
   },
   "source": [
    "## **SibSp**"
   ]
  },
  {
   "cell_type": "markdown",
   "metadata": {
    "_uuid": "550b27151a3314d8c5e89ec79a7d46b24eaf5288"
   },
   "source": [
    "This feature is the number of siblings or spouses this person was with on the Titanic.  The problem is we don't know this number represents siblings or spouses.  Let's first start looking at some of the distributions and see if anything stands out"
   ]
  },
  {
   "cell_type": "code",
   "execution_count": 42,
   "metadata": {
    "_uuid": "2d7670d36f069391d7d7bec65d28d50eeaac6804"
   },
   "outputs": [
    {
     "data": {
      "text/plain": [
       "0    608\n",
       "1    209\n",
       "2     28\n",
       "4     18\n",
       "3     16\n",
       "8      7\n",
       "5      5\n",
       "Name: SibSp, dtype: int64"
      ]
     },
     "execution_count": 42,
     "metadata": {},
     "output_type": "execute_result"
    }
   ],
   "source": [
    "titanic.SibSp.value_counts()"
   ]
  },
  {
   "cell_type": "code",
   "execution_count": 43,
   "metadata": {
    "_uuid": "4619e335059f380c33dbd2921f2f7137c3b8cf81"
   },
   "outputs": [
    {
     "data": {
      "text/plain": [
       "0    0.345395\n",
       "1    0.535885\n",
       "2    0.464286\n",
       "3    0.250000\n",
       "4    0.166667\n",
       "5         NaN\n",
       "8         NaN\n",
       "Name: SibSp, dtype: float64"
      ]
     },
     "execution_count": 43,
     "metadata": {},
     "output_type": "execute_result"
    }
   ],
   "source": [
    "titanic[titanic.Survived == 1].SibSp.value_counts() / titanic.SibSp.value_counts()"
   ]
  },
  {
   "cell_type": "markdown",
   "metadata": {
    "_uuid": "bbb046e22899b9246016528f47c5cfa26b1dfbd6"
   },
   "source": [
    "A couple things to break down here.  First with 0 and 1.  With 0, this obviously means the traveler was alone and wouldn't be affected by having a companion.  With 1, I would guess that more times than not, this would be the spouse.  With 0, the survival rate seems to be about what the average survival rate was for the whole titanic.  Which makes sense since the overwhelming majority of people have no spouses or siblings on the ship.  But with 1 the survival average seems to go up quite a bit.  The only explanation for this might be because a woman was prioritized to get off the boat first and maybe they had children which prioritized them even more?  We will look more into this when we look at **Parch** next.\n",
    "\n",
    "<br />\n",
    "\n",
    "What does become interesting is the small amount of people that had more than 1 **SibSp**.  I would assume that this meant they had more than one sibling.  And as we can see the survival rate decreased as the number of assumed siblings increased.  This could be because people would likely not want to abandon their siblings.  Let's take a look at a random sample of those with 4 or more **SibSp**"
   ]
  },
  {
   "cell_type": "code",
   "execution_count": 44,
   "metadata": {
    "_uuid": "e7be7cb531cb4fbf7beaff6bfd66b9cf82d9691b"
   },
   "outputs": [
    {
     "data": {
      "text/html": [
       "<div>\n",
       "<style>\n",
       "    .dataframe thead tr:only-child th {\n",
       "        text-align: right;\n",
       "    }\n",
       "\n",
       "    .dataframe thead th {\n",
       "        text-align: left;\n",
       "    }\n",
       "\n",
       "    .dataframe tbody tr th {\n",
       "        vertical-align: top;\n",
       "    }\n",
       "</style>\n",
       "<table border=\"1\" class=\"dataframe\">\n",
       "  <thead>\n",
       "    <tr style=\"text-align: right;\">\n",
       "      <th></th>\n",
       "      <th>PassengerId</th>\n",
       "      <th>Survived</th>\n",
       "      <th>Pclass</th>\n",
       "      <th>Name</th>\n",
       "      <th>Sex</th>\n",
       "      <th>Age</th>\n",
       "      <th>SibSp</th>\n",
       "      <th>Parch</th>\n",
       "      <th>Ticket</th>\n",
       "      <th>Fare</th>\n",
       "      <th>Cabin</th>\n",
       "      <th>Embarked</th>\n",
       "    </tr>\n",
       "  </thead>\n",
       "  <tbody>\n",
       "    <tr>\n",
       "      <th>846</th>\n",
       "      <td>847</td>\n",
       "      <td>0</td>\n",
       "      <td>3</td>\n",
       "      <td>Sage, Mr. Douglas Bullen</td>\n",
       "      <td>male</td>\n",
       "      <td>NaN</td>\n",
       "      <td>8</td>\n",
       "      <td>2</td>\n",
       "      <td>CA. 2343</td>\n",
       "      <td>69.5500</td>\n",
       "      <td>NaN</td>\n",
       "      <td>S</td>\n",
       "    </tr>\n",
       "    <tr>\n",
       "      <th>278</th>\n",
       "      <td>279</td>\n",
       "      <td>0</td>\n",
       "      <td>3</td>\n",
       "      <td>Rice, Master. Eric</td>\n",
       "      <td>male</td>\n",
       "      <td>7.0</td>\n",
       "      <td>4</td>\n",
       "      <td>1</td>\n",
       "      <td>382652</td>\n",
       "      <td>29.1250</td>\n",
       "      <td>NaN</td>\n",
       "      <td>Q</td>\n",
       "    </tr>\n",
       "    <tr>\n",
       "      <th>787</th>\n",
       "      <td>788</td>\n",
       "      <td>0</td>\n",
       "      <td>3</td>\n",
       "      <td>Rice, Master. George Hugh</td>\n",
       "      <td>male</td>\n",
       "      <td>8.0</td>\n",
       "      <td>4</td>\n",
       "      <td>1</td>\n",
       "      <td>382652</td>\n",
       "      <td>29.1250</td>\n",
       "      <td>NaN</td>\n",
       "      <td>Q</td>\n",
       "    </tr>\n",
       "    <tr>\n",
       "      <th>386</th>\n",
       "      <td>387</td>\n",
       "      <td>0</td>\n",
       "      <td>3</td>\n",
       "      <td>Goodwin, Master. Sidney Leonard</td>\n",
       "      <td>male</td>\n",
       "      <td>1.0</td>\n",
       "      <td>5</td>\n",
       "      <td>2</td>\n",
       "      <td>CA 2144</td>\n",
       "      <td>46.9000</td>\n",
       "      <td>NaN</td>\n",
       "      <td>S</td>\n",
       "    </tr>\n",
       "    <tr>\n",
       "      <th>171</th>\n",
       "      <td>172</td>\n",
       "      <td>0</td>\n",
       "      <td>3</td>\n",
       "      <td>Rice, Master. Arthur</td>\n",
       "      <td>male</td>\n",
       "      <td>4.0</td>\n",
       "      <td>4</td>\n",
       "      <td>1</td>\n",
       "      <td>382652</td>\n",
       "      <td>29.1250</td>\n",
       "      <td>NaN</td>\n",
       "      <td>Q</td>\n",
       "    </tr>\n",
       "    <tr>\n",
       "      <th>180</th>\n",
       "      <td>181</td>\n",
       "      <td>0</td>\n",
       "      <td>3</td>\n",
       "      <td>Sage, Miss. Constance Gladys</td>\n",
       "      <td>female</td>\n",
       "      <td>NaN</td>\n",
       "      <td>8</td>\n",
       "      <td>2</td>\n",
       "      <td>CA. 2343</td>\n",
       "      <td>69.5500</td>\n",
       "      <td>NaN</td>\n",
       "      <td>S</td>\n",
       "    </tr>\n",
       "    <tr>\n",
       "      <th>850</th>\n",
       "      <td>851</td>\n",
       "      <td>0</td>\n",
       "      <td>3</td>\n",
       "      <td>Andersson, Master. Sigvard Harald Elias</td>\n",
       "      <td>male</td>\n",
       "      <td>4.0</td>\n",
       "      <td>4</td>\n",
       "      <td>2</td>\n",
       "      <td>347082</td>\n",
       "      <td>31.2750</td>\n",
       "      <td>NaN</td>\n",
       "      <td>S</td>\n",
       "    </tr>\n",
       "    <tr>\n",
       "      <th>792</th>\n",
       "      <td>793</td>\n",
       "      <td>0</td>\n",
       "      <td>3</td>\n",
       "      <td>Sage, Miss. Stella Anna</td>\n",
       "      <td>female</td>\n",
       "      <td>NaN</td>\n",
       "      <td>8</td>\n",
       "      <td>2</td>\n",
       "      <td>CA. 2343</td>\n",
       "      <td>69.5500</td>\n",
       "      <td>NaN</td>\n",
       "      <td>S</td>\n",
       "    </tr>\n",
       "    <tr>\n",
       "      <th>233</th>\n",
       "      <td>234</td>\n",
       "      <td>1</td>\n",
       "      <td>3</td>\n",
       "      <td>Asplund, Miss. Lillian Gertrud</td>\n",
       "      <td>female</td>\n",
       "      <td>5.0</td>\n",
       "      <td>4</td>\n",
       "      <td>2</td>\n",
       "      <td>347077</td>\n",
       "      <td>31.3875</td>\n",
       "      <td>NaN</td>\n",
       "      <td>S</td>\n",
       "    </tr>\n",
       "    <tr>\n",
       "      <th>16</th>\n",
       "      <td>17</td>\n",
       "      <td>0</td>\n",
       "      <td>3</td>\n",
       "      <td>Rice, Master. Eugene</td>\n",
       "      <td>male</td>\n",
       "      <td>2.0</td>\n",
       "      <td>4</td>\n",
       "      <td>1</td>\n",
       "      <td>382652</td>\n",
       "      <td>29.1250</td>\n",
       "      <td>NaN</td>\n",
       "      <td>Q</td>\n",
       "    </tr>\n",
       "  </tbody>\n",
       "</table>\n",
       "</div>"
      ],
      "text/plain": [
       "     PassengerId  Survived  Pclass                                     Name  \\\n",
       "846          847         0       3                 Sage, Mr. Douglas Bullen   \n",
       "278          279         0       3                       Rice, Master. Eric   \n",
       "787          788         0       3                Rice, Master. George Hugh   \n",
       "386          387         0       3          Goodwin, Master. Sidney Leonard   \n",
       "171          172         0       3                     Rice, Master. Arthur   \n",
       "180          181         0       3             Sage, Miss. Constance Gladys   \n",
       "850          851         0       3  Andersson, Master. Sigvard Harald Elias   \n",
       "792          793         0       3                  Sage, Miss. Stella Anna   \n",
       "233          234         1       3           Asplund, Miss. Lillian Gertrud   \n",
       "16            17         0       3                     Rice, Master. Eugene   \n",
       "\n",
       "        Sex  Age  SibSp  Parch    Ticket     Fare Cabin Embarked  \n",
       "846    male  NaN      8      2  CA. 2343  69.5500   NaN        S  \n",
       "278    male  7.0      4      1    382652  29.1250   NaN        Q  \n",
       "787    male  8.0      4      1    382652  29.1250   NaN        Q  \n",
       "386    male  1.0      5      2   CA 2144  46.9000   NaN        S  \n",
       "171    male  4.0      4      1    382652  29.1250   NaN        Q  \n",
       "180  female  NaN      8      2  CA. 2343  69.5500   NaN        S  \n",
       "850    male  4.0      4      2    347082  31.2750   NaN        S  \n",
       "792  female  NaN      8      2  CA. 2343  69.5500   NaN        S  \n",
       "233  female  5.0      4      2    347077  31.3875   NaN        S  \n",
       "16     male  2.0      4      1    382652  29.1250   NaN        Q  "
      ]
     },
     "execution_count": 44,
     "metadata": {},
     "output_type": "execute_result"
    }
   ],
   "source": [
    "titanic[titanic.SibSp >= 4].sample(10, random_state = 42)"
   ]
  },
  {
   "cell_type": "markdown",
   "metadata": {
    "_uuid": "1f3360c693b51f964b9445ee7473cc542c52d553"
   },
   "source": [
    "So all are children and maybe the ones we don't know are as well.  What is interesting is all of these people in our sample are all in 3rd class.  Let's check the **Pclass** distribution for all **SibSp**s greater than 2"
   ]
  },
  {
   "cell_type": "code",
   "execution_count": 45,
   "metadata": {
    "_uuid": "c0ea138e375b5ac7500bf83c22fcf0674505ec5e"
   },
   "outputs": [
    {
     "data": {
      "text/plain": [
       "3    42\n",
       "1     3\n",
       "2     1\n",
       "Name: Pclass, dtype: int64"
      ]
     },
     "execution_count": 45,
     "metadata": {},
     "output_type": "execute_result"
    }
   ],
   "source": [
    "titanic[titanic.SibSp > 2].Pclass.value_counts()"
   ]
  },
  {
   "cell_type": "markdown",
   "metadata": {
    "_uuid": "cbca3b42f32f0e5ea6d88c5ccf99f220a8e07ed6"
   },
   "source": [
    "So the overwhelming majority of these people that didn't survive were in 3rd class.  Let's see the percentage of each class to survive"
   ]
  },
  {
   "cell_type": "code",
   "execution_count": 46,
   "metadata": {
    "_uuid": "a4db11a0361df856d3bd1ef9374ce86334fcf9d5"
   },
   "outputs": [
    {
     "name": "stderr",
     "output_type": "stream",
     "text": [
      "C:\\Users\\Stephen\\Anaconda3\\lib\\site-packages\\ipykernel_launcher.py:1: UserWarning: Boolean Series key will be reindexed to match DataFrame index.\n",
      "  \"\"\"Entry point for launching an IPython kernel.\n"
     ]
    },
    {
     "data": {
      "text/plain": [
       "3    0.095238\n",
       "1    0.666667\n",
       "2    1.000000\n",
       "Name: Pclass, dtype: float64"
      ]
     },
     "execution_count": 46,
     "metadata": {},
     "output_type": "execute_result"
    }
   ],
   "source": [
    "titanic[titanic.Survived == 1][titanic.SibSp > 2].Pclass.value_counts() / titanic[titanic.SibSp > 2].Pclass.value_counts()"
   ]
  },
  {
   "cell_type": "markdown",
   "metadata": {
    "_uuid": "bc602d7376038d7dd7af03334d852103e1a94e2f"
   },
   "source": [
    "We can disregard 2nd class since there was only 1 person in it anyways, but when we look at 3rd class vs 1st class, we can see a very big difference.  It seems that 3rd class people with more than 2 siblings (we assume it's siblings) only survived 1% of the time.  Maybe it seems that 3rd class children not as prioritized as we previously thought.  BUT this could also be due to the fact that the 3rd class was much lower on the ship which flooded first.  Regardless, this could help a lot with determing who survived. "
   ]
  },
  {
   "cell_type": "markdown",
   "metadata": {
    "_uuid": "753cb3effd93a91d52336093edba31e85fb74949"
   },
   "source": [
    "## **Parch**"
   ]
  },
  {
   "cell_type": "markdown",
   "metadata": {
    "_uuid": "538ae8eb1379372d5e10c7d3329e2de87950563c"
   },
   "source": [
    "Let's now look at **Parch** which is the number of parents or children on the titanic"
   ]
  },
  {
   "cell_type": "code",
   "execution_count": 47,
   "metadata": {
    "_uuid": "888972b6d3a4880cc2d08c49682f53eed7873edf"
   },
   "outputs": [
    {
     "data": {
      "text/plain": [
       "0    678\n",
       "1    118\n",
       "2     80\n",
       "5      5\n",
       "3      5\n",
       "4      4\n",
       "6      1\n",
       "Name: Parch, dtype: int64"
      ]
     },
     "execution_count": 47,
     "metadata": {},
     "output_type": "execute_result"
    }
   ],
   "source": [
    "titanic.Parch.value_counts()"
   ]
  },
  {
   "cell_type": "code",
   "execution_count": 48,
   "metadata": {
    "_uuid": "fb5a30c1e53d559c010364fb923f46849089b6f1"
   },
   "outputs": [
    {
     "data": {
      "text/plain": [
       "0    0.343658\n",
       "1    0.550847\n",
       "2    0.500000\n",
       "3    0.600000\n",
       "4         NaN\n",
       "5    0.200000\n",
       "6         NaN\n",
       "Name: Parch, dtype: float64"
      ]
     },
     "execution_count": 48,
     "metadata": {},
     "output_type": "execute_result"
    }
   ],
   "source": [
    "titanic[titanic.Survived == 1].Parch.value_counts() / titanic.Parch.value_counts()"
   ]
  },
  {
   "cell_type": "markdown",
   "metadata": {
    "_uuid": "40baa1b8e164ce7e63ad61d65b7e0e90ec7e70e1"
   },
   "source": [
    "With this field we have slightly similar results, with 0 parents or children resulting in about the same survival rate as the entire ship, and with 1 parent or child increasing the survival rate quite a bit.  I believe that there is some similarity between this feature and the **SibSp** feature.  For now, I will not be diving in deaper for this field, but I believe there could be some tricky stuff done with the **Name** (specificall last name), **Age**, **SibSp**, and **Parch** that could help us find more correlations.  But for now, I don't see it contributing all that much."
   ]
  },
  {
   "cell_type": "markdown",
   "metadata": {
    "_uuid": "0fe46464bf265a7d52f3f87121031cfbfeaf548e"
   },
   "source": [
    "## **Ticket & Cabin**"
   ]
  },
  {
   "cell_type": "markdown",
   "metadata": {
    "_uuid": "772beb3d2dddfa1a94bb760e5978efb6426d1f0d"
   },
   "source": [
    "I will be dropping both of these fields.  **Ticket** because the values seem to be so scattered and there really isn't any pattern that is very clear.  I thought that **Cabin** could be a cool feature to do stuff with because if we could find the layout of the ship somewhere online, we could maybe determine where the room was in relation to how far away from the hole in the ship it was.  As we saw before, the reason that a lot of people in 3rd class probably died is because they would be lower on the ship.  Now, not all of them died, knowing where their cabin was on the ship could contribute to how likely they were to survive.  They could have been really far from where the ship had a hole in it giving them more time to get to the top of the deck.  Unfortunately, this feature is missing a TON of values.  So we will just be dropping it."
   ]
  },
  {
   "cell_type": "markdown",
   "metadata": {
    "_uuid": "16622b5ee3397ff96a03efc60015680ec54871a2"
   },
   "source": [
    "## **Fare**"
   ]
  },
  {
   "cell_type": "markdown",
   "metadata": {
    "_uuid": "5b202f0410cb2e16884b97e6fa038fd944bf2e00"
   },
   "source": [
    "Fare is a float number that could give us some extra granulatiry (over **Pclass**) on who was richer and therefore who might be more likely to get off the ship."
   ]
  },
  {
   "cell_type": "code",
   "execution_count": 49,
   "metadata": {
    "_uuid": "713ac8a06fc7fe73eac05414690bf3651dc20e0c"
   },
   "outputs": [
    {
     "data": {
      "text/plain": [
       "count    891.000000\n",
       "mean      32.204208\n",
       "std       49.693429\n",
       "min        0.000000\n",
       "25%        7.910400\n",
       "50%       14.454200\n",
       "75%       31.000000\n",
       "max      512.329200\n",
       "Name: Fare, dtype: float64"
      ]
     },
     "execution_count": 49,
     "metadata": {},
     "output_type": "execute_result"
    }
   ],
   "source": [
    "titanic.Fare.describe()"
   ]
  },
  {
   "cell_type": "code",
   "execution_count": 50,
   "metadata": {
    "_uuid": "c051ec1e48c6a367450fe73a1d2ac3affc194bad"
   },
   "outputs": [
    {
     "name": "stdout",
     "output_type": "stream",
     "text": [
      "1st class\n",
      "count    216.000000\n",
      "mean      84.154687\n",
      "std       78.380373\n",
      "min        0.000000\n",
      "25%       30.923950\n",
      "50%       60.287500\n",
      "75%       93.500000\n",
      "max      512.329200\n",
      "Name: Fare, dtype: float64\n",
      "\n",
      "\n",
      "2nd class\n",
      "count    184.000000\n",
      "mean      20.662183\n",
      "std       13.417399\n",
      "min        0.000000\n",
      "25%       13.000000\n",
      "50%       14.250000\n",
      "75%       26.000000\n",
      "max       73.500000\n",
      "Name: Fare, dtype: float64\n",
      "\n",
      "\n",
      "3rd class\n",
      "count    491.000000\n",
      "mean      13.675550\n",
      "std       11.778142\n",
      "min        0.000000\n",
      "25%        7.750000\n",
      "50%        8.050000\n",
      "75%       15.500000\n",
      "max       69.550000\n",
      "Name: Fare, dtype: float64\n"
     ]
    }
   ],
   "source": [
    "print('1st class')\n",
    "print(titanic[titanic.Pclass == 1].Fare.describe())\n",
    "print('\\n')\n",
    "print('2nd class')\n",
    "print(titanic[titanic.Pclass == 2].Fare.describe())\n",
    "print('\\n')\n",
    "print('3rd class')\n",
    "print(titanic[titanic.Pclass == 3].Fare.describe())"
   ]
  },
  {
   "cell_type": "markdown",
   "metadata": {
    "_uuid": "83fc5f305bb49c453c06be72896f5da83f02e805"
   },
   "source": [
    "I would predict that in the 1st class, those who paid more than the mean **Fare**, had a higher chance of survival because they were richer.  And I would say the same logic could apply to for those who paid under the mean **Fare** in 3rd class but of course with a lower chance of survival.  Let's take a look"
   ]
  },
  {
   "cell_type": "code",
   "execution_count": 51,
   "metadata": {
    "_uuid": "5dc67e839ebed161dc8b453a5e5874da3a62daa4"
   },
   "outputs": [
    {
     "name": "stdout",
     "output_type": "stream",
     "text": [
      "Survival rate for all of 1st class\n",
      "0.6296296296296297\n",
      "Survival rate for of 1st class who paid over mean\n",
      "0.5046296296296297\n",
      "\n",
      "\n",
      "Survival rate for all of 3rd class\n",
      "0.24236252545824846\n",
      "Survival rate for of 3rd class who paid under mean\n",
      "0.23217922606924643\n"
     ]
    },
    {
     "name": "stderr",
     "output_type": "stream",
     "text": [
      "C:\\Users\\Stephen\\Anaconda3\\lib\\site-packages\\ipykernel_launcher.py:4: UserWarning: Boolean Series key will be reindexed to match DataFrame index.\n",
      "  after removing the cwd from sys.path.\n",
      "C:\\Users\\Stephen\\Anaconda3\\lib\\site-packages\\ipykernel_launcher.py:6: UserWarning: Boolean Series key will be reindexed to match DataFrame index.\n",
      "  \n",
      "C:\\Users\\Stephen\\Anaconda3\\lib\\site-packages\\ipykernel_launcher.py:11: UserWarning: Boolean Series key will be reindexed to match DataFrame index.\n",
      "  # This is added back by InteractiveShellApp.init_path()\n",
      "C:\\Users\\Stephen\\Anaconda3\\lib\\site-packages\\ipykernel_launcher.py:13: UserWarning: Boolean Series key will be reindexed to match DataFrame index.\n",
      "  del sys.path[0]\n"
     ]
    }
   ],
   "source": [
    "survived = titanic[titanic.Survived == 1]\n",
    "\n",
    "print('Survival rate for all of 1st class')\n",
    "print(len(survived[titanic.Pclass == 1]) / len(titanic[titanic.Pclass == 1]))\n",
    "print('Survival rate for of 1st class who paid over mean')\n",
    "print(len(survived[titanic.Pclass == 1][titanic.Fare > titanic.Fare.mean()]) / len(titanic[titanic.Pclass == 1]))\n",
    "\n",
    "print('\\n')\n",
    "\n",
    "print('Survival rate for all of 3rd class')\n",
    "print(len(survived[titanic.Pclass == 3]) / len(titanic[titanic.Pclass == 3]))\n",
    "print('Survival rate for of 3rd class who paid under mean')\n",
    "print(len(survived[titanic.Pclass == 3][titanic.Fare < titanic.Fare.mean()]) / len(titanic[titanic.Pclass == 3]))"
   ]
  },
  {
   "cell_type": "markdown",
   "metadata": {
    "_uuid": "942bb51406feaaf231673ac55f13c0623fc2c98e"
   },
   "source": [
    "lol.. whelp that was wrong.  Maybe fare won't have much more of an impact over **Pclass**"
   ]
  },
  {
   "cell_type": "markdown",
   "metadata": {
    "_uuid": "fc8e3b3ec8930d49256b8fb2213ee7abf03d3ad0"
   },
   "source": [
    "## **Embarked**"
   ]
  },
  {
   "cell_type": "markdown",
   "metadata": {
    "_uuid": "b3b85c9261b5f915c3c65ce7a977d8e0923290bf"
   },
   "source": [
    "Finally we have **Embarked**.  This is an object field with 1 of 3 values:\n",
    "* C - Cherbourg\n",
    "* Q - Queenstown\n",
    "* S - Southampton"
   ]
  },
  {
   "cell_type": "markdown",
   "metadata": {
    "_uuid": "6000cdd63a0e1f4beee2d136679d46dad25eb96a"
   },
   "source": [
    "I don't think there would be any type of correlation between surviving and where you embarked from, but let's just look at the distribution for fun"
   ]
  },
  {
   "cell_type": "code",
   "execution_count": 52,
   "metadata": {
    "_uuid": "30dd78ec6a6edc4cc406ebdb8fe1bcb086fe433d"
   },
   "outputs": [
    {
     "data": {
      "text/plain": [
       "S    0.336957\n",
       "C    0.553571\n",
       "Q    0.389610\n",
       "Name: Embarked, dtype: float64"
      ]
     },
     "execution_count": 52,
     "metadata": {},
     "output_type": "execute_result"
    }
   ],
   "source": [
    "titanic[titanic.Survived == 1].Embarked.value_counts() / titanic.Embarked.value_counts()"
   ]
  },
  {
   "cell_type": "code",
   "execution_count": 53,
   "metadata": {
    "_uuid": "a946e21b6a4407c87ac7eb950d52fd804d4502cd"
   },
   "outputs": [
    {
     "data": {
      "text/plain": [
       "S    644\n",
       "C    168\n",
       "Q     77\n",
       "Name: Embarked, dtype: int64"
      ]
     },
     "execution_count": 53,
     "metadata": {},
     "output_type": "execute_result"
    }
   ],
   "source": [
    "titanic.Embarked.value_counts()"
   ]
  },
  {
   "cell_type": "markdown",
   "metadata": {
    "_uuid": "ccf2ef4d4dfd7bb89de740c4332711f6e1cd863d"
   },
   "source": [
    "Hmm, interesting.  Southampton and Queenstown are both around the average, but Cherbourg is a bit higher than the average survival rate, could this be because of the class they were in? "
   ]
  },
  {
   "cell_type": "code",
   "execution_count": 54,
   "metadata": {
    "_uuid": "56fe6a75a4c0ac13805d9a7b7279ac962886fa49"
   },
   "outputs": [
    {
     "data": {
      "text/plain": [
       "1    85\n",
       "3    66\n",
       "2    17\n",
       "Name: Pclass, dtype: int64"
      ]
     },
     "execution_count": 54,
     "metadata": {},
     "output_type": "execute_result"
    }
   ],
   "source": [
    "titanic[titanic.Embarked == 'C'].Pclass.value_counts()"
   ]
  },
  {
   "cell_type": "markdown",
   "metadata": {
    "_uuid": "cf1afd0a9c90e4ebadc26dc0f7bedb7c01d3f18e"
   },
   "source": [
    "Wow, this is pretty interesting.  let's take a look at the 3rd class survival rate between the different embarkment ports"
   ]
  },
  {
   "cell_type": "code",
   "execution_count": 55,
   "metadata": {
    "_uuid": "8530f11b71f1719e403354fedd753a32c167d0f3"
   },
   "outputs": [
    {
     "name": "stdout",
     "output_type": "stream",
     "text": [
      "Port S\n",
      "0    0.810198\n",
      "1    0.189802\n",
      "Name: Survived, dtype: float64\n",
      "Port C\n",
      "0    0.621212\n",
      "1    0.378788\n",
      "Name: Survived, dtype: float64\n",
      "Port Q\n",
      "0    0.625\n",
      "1    0.375\n",
      "Name: Survived, dtype: float64\n"
     ]
    },
    {
     "name": "stderr",
     "output_type": "stream",
     "text": [
      "C:\\Users\\Stephen\\Anaconda3\\lib\\site-packages\\ipykernel_launcher.py:3: UserWarning: Boolean Series key will be reindexed to match DataFrame index.\n",
      "  This is separate from the ipykernel package so we can avoid doing imports until\n"
     ]
    }
   ],
   "source": [
    "for port in ['S', 'C', 'Q']:\n",
    "    print('Port', port)\n",
    "    print(titanic[titanic.Embarked == port][titanic.Pclass == 3].Survived.value_counts(normalize = True))"
   ]
  },
  {
   "cell_type": "markdown",
   "metadata": {
    "_uuid": "df8323753e3adc9af396b739b014cbabe7e2dc14"
   },
   "source": [
    "Mmmm maybe it wasn't as interesting as I thought.  But there is a drop from the average survival rate when embarked from port Southampton.  Maybe it will maybe it won't help our model.  Regardless, we are missing a few fields.  Since Southampton is overwhelmingly where most people embarked from, we will just fill in the missing values with that.  "
   ]
  }
 ],
 "metadata": {
  "kernelspec": {
   "display_name": "Python 3",
   "language": "python",
   "name": "python3"
  },
  "language_info": {
   "codemirror_mode": {
    "name": "ipython",
    "version": 3
   },
   "file_extension": ".py",
   "mimetype": "text/x-python",
   "name": "python",
   "nbconvert_exporter": "python",
   "pygments_lexer": "ipython3",
   "version": "3.6.2"
  }
 },
 "nbformat": 4,
 "nbformat_minor": 1
}
